{
 "cells": [
  {
   "cell_type": "markdown",
   "metadata": {},
   "source": [
    "200000 duplex\n",
    "box 1 - income\n",
    "rental income = 2000 per month\n",
    "laundry = 0\n",
    "storage = 0\n",
    "total monthly income = 2000\n",
    "\n",
    "box 2 - expenses\n",
    "tax = 150\n",
    "insurance = 100\n",
    "utilities = 0\n",
    "hoa fees = 0\n",
    "lawn/snow care = 0\n",
    "vacancy = 5% of rental income\n",
    "repairs = 100\n",
    "capex = 100\n",
    "propertymanagement = 10% of rental income\n",
    "mortgage = 860\n",
    "total monthly expenses = 1610\n",
    "\n",
    "box 3 - cash flow\n",
    "income - expenses\n",
    "total monthly cash flow = 390\n",
    "\n",
    "box 4 - cash on cash roi\n",
    "downpayment = 40000 20% of purchase price \n",
    "closingcosts = 3000\n",
    "rehabbudget = 7000\n",
    "total investment = 50000\n",
    "annual cash flow = 4680\n",
    "annual cash flow/total investment = 9.36%\n",
    "cash on cash roi = 9.36%"
   ]
  },
  {
   "cell_type": "code",
   "execution_count": 14,
   "metadata": {},
   "outputs": [
    {
     "name": "stdout",
     "output_type": "stream",
     "text": [
      "9.264\n"
     ]
    }
   ],
   "source": [
    "class RoiCalc():\n",
    "    \n",
    "    def __init__(self, price, rent):\n",
    "        self.price = price\n",
    "        self.rent = rent\n",
    "        \n",
    "def mortgage(price, downpaymentperc = 20, rate = 5.4): # as close to rate from video as I want to get\n",
    "    return (price - (price*downpaymentperc/100)) * rate/1000\n",
    " \n",
    "def income(rent, laundry = 0, storage = 0): # Laundry and storage as percentage of rent\n",
    "    return rent + laundry/100*rent + storage/100*rent\n",
    "\n",
    "def expenses(price, rent, utilities = 0, hoa = 0): #Utilities and HOA as flat values\n",
    "    tax = .075/100 * price # Tax as percentage of house price\n",
    "    insurance = .05/100 * price # Insurance as percentage of house price\n",
    "    vacancy = 5/100 * rent # Vacancy as percentage of rental income\n",
    "    repairs = .05/100 * price # Repairs as percentage of house price\n",
    "    capex = .05/100 * price # CapEx as percentage of house price\n",
    "    propertymanagement = 10/100 * rent # Property Management as percentage of rental income\n",
    "    mort = mortgage(price)\n",
    "    return tax + insurance + vacancy + repairs + capex + propertymanagement + mort + utilities + hoa\n",
    "\n",
    "def cashflow(income, expenses):\n",
    "    return income - expenses\n",
    "\n",
    "def cashOnCashRoi(price, cashflow, downpaymentperc = 20):\n",
    "    downpayment = downpaymentperc/100 * price # Downpayment as percentage of house price\n",
    "    closingcosts = 1.5/100 * price # Closing costs as percentage of house price\n",
    "    rehabbudget = 3.5/100 * price # Rehab Budget as percentage of house price\n",
    "    totalinvestment = downpayment + closingcosts + rehabbudget\n",
    "    annualcashflow = cashflow * 12\n",
    "    return annualcashflow/totalinvestment*100\n",
    "\n",
    "def runRoi(price, rent):\n",
    "    house = RoiCalc(price, rent) # I know I don't use this\n",
    "    inc = income(rent) # Not accessing laundry or storage\n",
    "    exp = expenses(price, rent) # Not accessing utilities or hoa, or down payment perc or rate\n",
    "    cash = cashflow(inc, exp) \n",
    "    roi = cashOnCashRoi(price, cash) # Not accessing down payment perc\n",
    "    return roi\n",
    "\n",
    "print(runRoi(200000, 2000)) # Recreate example from video\n"
   ]
  }
 ],
 "metadata": {
  "kernelspec": {
   "display_name": "Python 3",
   "language": "python",
   "name": "python3"
  },
  "language_info": {
   "codemirror_mode": {
    "name": "ipython",
    "version": 3
   },
   "file_extension": ".py",
   "mimetype": "text/x-python",
   "name": "python",
   "nbconvert_exporter": "python",
   "pygments_lexer": "ipython3",
   "version": "3.7.1"
  }
 },
 "nbformat": 4,
 "nbformat_minor": 2
}
